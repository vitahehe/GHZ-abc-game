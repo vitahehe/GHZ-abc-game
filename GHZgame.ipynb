{
 "cells": [
  {
   "cell_type": "code",
   "execution_count": 12,
   "id": "0b773d20",
   "metadata": {},
   "outputs": [],
   "source": [
    "#Imports\n",
    "\n",
    "from qiskit import QuantumCircuit, transpile\n",
    "from qiskit_aer import AerSimulator\n",
    "import pandas as pd\n",
    "import numpy as np"
   ]
  },
  {
   "cell_type": "code",
   "execution_count": null,
   "id": "eb954bec",
   "metadata": {},
   "outputs": [],
   "source": [
    "#For each input (x,y,z) make q circuit with 3 qubits, 3 classical registers\n",
    "# measure in x basis if input is 0, y basis if input is 1\n",
    "\n",
    "def GHZ_circuit(x:int,y:int,z:int):\n",
    "    qc = QuantumCircuit(3,3)\n",
    "    qc.h(0)\n",
    "    qc.cx(0,1)\n",
    "    qc.cx(1,2)\n",
    "    qc.barrier()\n",
    "\n",
    "    inputs = [x,y,z]\n",
    "    for qbit, inp in enumerate(inputs):\n",
    "        if inp == 0:\n",
    "            qc.h(qbit)\n",
    "        else:\n",
    "            qc.sdg(qbit) ; qc.h(qbit)\n",
    "            \n",
    "    qc.measure([0,1,2],[0,1,2])\n",
    "\n",
    "    return qc"
   ]
  },
  {
   "cell_type": "code",
   "execution_count": 10,
   "id": "2270dfd4",
   "metadata": {},
   "outputs": [
    {
     "name": "stdout",
     "output_type": "stream",
     "text": [
      "φ0 amplitudes: [1.+0.j 0.+0.j 0.+0.j 0.+0.j 0.+0.j 0.+0.j 0.+0.j 0.+0.j]\n",
      "φ1: [0.70710678+0.j 0.70710678+0.j 0.        +0.j 0.        +0.j\n",
      " 0.        +0.j 0.        +0.j 0.        +0.j 0.        +0.j]\n",
      "φ2: [0.70710678+0.j 0.        +0.j 0.        +0.j 0.70710678+0.j\n",
      " 0.        +0.j 0.        +0.j 0.        +0.j 0.        +0.j]\n",
      "φ3: [0.70710678+0.j 0.        +0.j 0.        +0.j 0.        +0.j\n",
      " 0.        +0.j 0.        +0.j 0.        +0.j 0.70710678+0.j]\n",
      "Exact probs of phi3: [0.5 0.  0.  0.  0.  0.  0.  0.5]\n"
     ]
    }
   ],
   "source": [
    "#OPTIONAL check with state vector if state matches GHZ state so i know i didnt mess up something yet, also no measurments!\n",
    "from qiskit.quantum_info import Statevector\n",
    "\n",
    "sv = Statevector.from_label('000') \n",
    "print(\"φ0 amplitudes:\", sv.data)\n",
    "\n",
    "#φ1 = (H⊗I⊗I) φ0\n",
    "step = QuantumCircuit(3); step.h(0)\n",
    "sv = sv.evolve(step)               # evolve by the tiny circuit\n",
    "print(\"φ1:\", sv.data)\n",
    "\n",
    "#φ2 =(CX⊗I)\n",
    "step = QuantumCircuit(3); step.cx(0, 1)\n",
    "sv = sv.evolve(step)\n",
    "print(\"φ2:\", sv.data)\n",
    "\n",
    "#φ3 = (I⊗CX\n",
    "step = QuantumCircuit(3); step.cx(1,2)\n",
    "sv = sv.evolve(step)\n",
    "print(\"φ3:\", sv.data)\n",
    "\n",
    "print(\"Exact probs of phi3:\", np.abs(sv.data)**2)"
   ]
  },
  {
   "cell_type": "code",
   "execution_count": 14,
   "id": "156a3325",
   "metadata": {},
   "outputs": [],
   "source": [
    "def estimate_win_proba(x:int,y:int,z:int, shots: int = 20000, backend: AerSimulator = None):\n",
    "    if backend is None:\n",
    "        backend = AerSimulator(method='statevector', shots=shots)\n",
    "\n",
    "    qc = GHZ_circuit(x,y,z)\n",
    "    transpiled_qc = transpile(qc, backend)\n",
    "    result = backend.run(transpiled_qc, shots=shots).result()\n",
    "    counts = result.get_counts()\n",
    "    \n",
    "    target = int(bool(x or y or z)) # 1 if any of x,y,z is 1, else 0\n",
    "    win_counts = 0\n",
    "    total = 0\n",
    "\n",
    "    for bitst, cnt in counts.items():\n",
    "        a = int(bitst[2]) \n",
    "        b = int(bitst[1])\n",
    "        c = int(bitst[0]) # bitst is in reverse order\n",
    "        if (a ^ b ^ c) == target:\n",
    "            win_counts += cnt\n",
    "        total += cnt\n",
    "    p_win = win_counts / total\n",
    "    \n",
    "    return p_win, counts, transpiled_qc"
   ]
  },
  {
   "cell_type": "code",
   "execution_count": 17,
   "id": "0cdccf73",
   "metadata": {},
   "outputs": [
    {
     "data": {
      "image/png": "[encoded data removed]",
      "text/plain": [
       "<Figure size 550x350 with 1 Axes>"
      ]
     },
     "metadata": {},
     "output_type": "display_data"
    }
   ],
   "source": [
    "import matplotlib.pyplot as plt\n",
    "\n",
    "promised_inputs = [(0,0,0), (0,1,1), (1,0,1), (1,1,0)]\n",
    "data = []\n",
    "\n",
    "for (x, y, z) in promised_inputs:\n",
    "    p_win, counts, qc = estimate_win_proba(x,y,z)\n",
    "    data.append({\n",
    "        \"input\": f\"{x}{y}{z}\", \n",
    "        \"counts\": counts,\n",
    "        \"OR(x,y,z)\": int(bool(x or y or z)),\n",
    "        \"p_win\": p_win,\n",
    "        })\n",
    "df= pd.DataFrame(data)\n",
    "\n",
    "plt.figure(figsize=(5.5,3.5))\n",
    "plt.bar(df[\"input\"], df[\"p_win\"])\n",
    "plt.xlabel(\"input (x y z)\")\n",
    "plt.ylabel(\"estimated P(win)\")\n",
    "plt.title(\"GHZ game: win probability by input\")\n",
    "plt.grid(axis=\"y\", alpha=0.3)\n",
    "plt.show()\n",
    "    \n"
   ]
  }
 ],
 "metadata": {
  "kernelspec": {
   "display_name": "qiskitINTROENV (3.13.7)",
   "language": "python",
   "name": "python3"
  },
  "language_info": {
   "codemirror_mode": {
    "name": "ipython",
    "version": 3
   },
   "file_extension": ".py",
   "mimetype": "text/x-python",
   "name": "python",
   "nbconvert_exporter": "python",
   "pygments_lexer": "ipython3",
   "version": "3.13.7"
  }
 },
 "nbformat": 4,
 "nbformat_minor": 5
}
